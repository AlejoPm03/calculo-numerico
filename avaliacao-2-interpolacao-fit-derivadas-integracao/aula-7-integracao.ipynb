{
 "cells": [
  {
   "cell_type": "markdown",
   "metadata": {},
   "source": [
    "# Análise do trabalho realizado por uma força variável ao longo de um deslocamento. \n",
    "\n",
    "### Contexto do Problema:\n",
    "Dado que um objeto está sendo puxado com uma corda ao longo de um piso plano. A força necessária para puxar o objeto varia com a distância devido à variação na superfície do piso, podendo ser representada pela função $f(x) = 100e^{-0.3x^{2}}$ Newtons, onde $x$ é a distância em metros. Deseja-se calcular o trabalho realizado ao mover o objeto da posição $x = 0$ metros até $x = 4$ metros.\n",
    "\n",
    "### Problema de Integração:\n",
    "O trabalho ($ W $) realizado pela força variável ao longo de um deslocamento pode ser calculado integrando a força ao longo do caminho. Assim, a integral que deseja-se resolver é:\n",
    "\n",
    "$$W = \\int_{0}^{4} 100e^{-0.3x^{2}} dx$$\n",
    "\n",
    "## Resolução Manual Utilizando a Regra do Trapézio:\n",
    "\n",
    "Para aplicar a Regra do Trapézio, vamos dividir o intervalo de integração em $n$ subintervalos. Vamos escolher $n = 4$ para simplificar os cálculos manuais. Portanto, $h = \\frac{4-0}{4} = 1$ metro.\n",
    "\n",
    "Agora calculamos os valores da função em cada ponto:\n",
    "\n",
    "- $f(0) = 100e^{-0.3(0)^{2}} = 100$\n",
    "- $f(1) = 100e^{-0.3(1)^{2}} = 74.08182$\n",
    "- $f(2) = 100e^{-0.3(2)^{2}} = 30.11942$\n",
    "- $f(3) = 100e^{-0.3(3)^{2}} = 6.72055$\n",
    "- $f(4) = 100e^{-0.3(4)^{2}} = 0.82297$\n",
    "\n",
    "Agora, aplicamos a Regra do Trapézio composta:\n",
    "\n",
    "$$W \\approx \\frac{1}{2} \\left[ f(0) + 2 \\cdot (f(1) + f(2) + f(3)) + f(4) \\right]$$\n",
    "$$W \\approx \\frac{1}{2} \\left[ 100 + 2 \\cdot (74.08182 + 30.11942 + 6.72055) + 0.82297 \\right]$$\n",
    "$$W \\approx 0.5 \\left[ 100 + 2 \\cdot (110.92179) + 0.82297 \\right]$$\n",
    "$$W \\approx 0.5 \\left[ 100 + 221.84358 + 0.82297 \\right]$$\n",
    "$$W \\approx 0.5 \\cdot 322.66655$$\n",
    "$$W \\approx 161.333275 \\text{ Joules}$$\n",
    "\n",
    "Portanto, o trabalho aproximado realizado é $161.333275$ Joules."
   ]
  },
  {
   "cell_type": "markdown",
   "metadata": {},
   "source": [
    "## Resolução por Computador com Python:"
   ]
  },
  {
   "cell_type": "code",
   "execution_count": 2,
   "metadata": {},
   "outputs": [
    {
     "name": "stdout",
     "output_type": "stream",
     "text": [
      "\n",
      "\u001b[1m[\u001b[0m\u001b[34;49mnotice\u001b[0m\u001b[1;39;49m]\u001b[0m\u001b[39;49m A new release of pip is available: \u001b[0m\u001b[31;49m23.2.1\u001b[0m\u001b[39;49m -> \u001b[0m\u001b[32;49m23.3.1\u001b[0m\n",
      "\u001b[1m[\u001b[0m\u001b[34;49mnotice\u001b[0m\u001b[1;39;49m]\u001b[0m\u001b[39;49m To update, run: \u001b[0m\u001b[32;49mpip install --upgrade pip\u001b[0m\n"
     ]
    }
   ],
   "source": [
    "!pip install -q numpy"
   ]
  },
  {
   "cell_type": "code",
   "execution_count": 3,
   "metadata": {},
   "outputs": [
    {
     "name": "stdout",
     "output_type": "stream",
     "text": [
      "O trabalho aproximado realizado é: 161.33328188581797 Joules\n"
     ]
    }
   ],
   "source": [
    "import numpy as np\n",
    "\n",
    "# Definição da função\n",
    "def f(x: float):\n",
    "\treturn 100 * np.exp(-0.3 * x ** 2)\n",
    "\n",
    "# Regra do trapézio composta\n",
    "a, b, n = 0, 4, 4\n",
    "\n",
    "h = (b - a) / n\n",
    "x = np.linspace(a, b, n + 1)\n",
    "y = f(x)\n",
    "\n",
    "W_trap = (h/2) * (y[0] + 2 * np.sum(y[1:-1]) + y[-1])\n",
    "\n",
    "print(\"O trabalho aproximado realizado é:\", W_trap, \"Joules\")"
   ]
  }
 ],
 "metadata": {
  "kernelspec": {
   "display_name": ".venv",
   "language": "python",
   "name": "python3"
  },
  "language_info": {
   "codemirror_mode": {
    "name": "ipython",
    "version": 3
   },
   "file_extension": ".py",
   "mimetype": "text/x-python",
   "name": "python",
   "nbconvert_exporter": "python",
   "pygments_lexer": "ipython3",
   "version": "3.11.5"
  }
 },
 "nbformat": 4,
 "nbformat_minor": 2
}
