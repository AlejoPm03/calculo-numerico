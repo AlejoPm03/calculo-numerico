{
 "cells": [
  {
   "cell_type": "markdown",
   "metadata": {},
   "source": [
    "# Análise de problema de derivação relacionado ao algoritmo MPPT (Maximum Power Point Tracking)\n",
    "\n",
    "### Contexto do Problema:\n",
    "Um componente essencial dos algoritmos MPPT é a capacidade de determinar rapidamente a direção na qual a potência máxima pode ser alcançada. Isso geralmente envolve a derivada da potência em relação à tensão ($ dP/dV $) do painel solar. Para este problema, vamos assumir que a relação entre a potência ($ P $) e a tensão ($ V $) em um determinado painel solar pode ser modelada pela equação:\n",
    "\n",
    "$$ P(V) = I(V) \\cdot V $$\n",
    "\n",
    "onde $ I(V) $ é a corrente, que pode ser modelada pela equação:\n",
    "\n",
    "$$ I(V) = I_{ph} - I_0 \\left( e^{\\frac{V}{nV_T}} - 1 \\right) $$\n",
    "\n",
    "Aqui, $ I_{ph} $ é a corrente fotogerada (constante), $ I_0 $ é a corrente de saturação do diodo (constante), $ n $ é o fator de idealidade do diodo, e $ V_T $ é a tensão térmica.\n",
    "\n",
    "### Problema de Derivação:\n",
    "\n",
    "Para encontrar o ponto de máxima potência, necessita-se da derivada da função $ P(V) $ em relação a $ V $ e igualar a zero:\n",
    "\n",
    "$$ \\frac{dP}{dV} = \\frac{d}{dV} (I(V) \\cdot V) $$\n",
    "\n",
    "## Resolução Manual Utilizando Diferenças Finitas:\n",
    "\n",
    "Para calcular $ dP/dV $ manualmente, podemos utilizar o método das diferenças finitas, especificamente a diferença central:\n",
    "\n",
    "$$ \\frac{dP}{dV} \\approx \\frac{P(V + h) - P(V - h)}{2h} $$\n",
    "\n",
    "onde $ h $ é um pequeno incremento de tensão.\n",
    "\n",
    "Suponha que temos os seguintes valores constantes para o nosso modelo:\n",
    "- $ I_{ph} = 3 $ A,\n",
    "- $ I_0 = 10^{-10} $ A,\n",
    "- $ n = 1 $,\n",
    "- $ V_T = 0.026 $ V,\n",
    "- $ dP/dV $ em $ V = 0.5 $ V com $ h = 0.01 $ V.\n",
    "\n",
    "$$ \\frac{dP}{dV} \\approx 2.532769 \\text{ W/V} $$\n",
    "\n",
    "## Resolução por Computador com Python:\n",
    "\n",
    "Implementando o método das diferenças finitas em Python para obter $ dP/dV $ para o mesmo ponto $ V = 0.5 $ V, mas podemos usar um valor de $ h $ ainda menor para uma aproximação mais precisa.\n"
   ]
  },
  {
   "cell_type": "code",
   "execution_count": null,
   "metadata": {},
   "outputs": [],
   "source": [
    "!pip install numpy"
   ]
  },
  {
   "cell_type": "code",
   "execution_count": 3,
   "metadata": {},
   "outputs": [
    {
     "name": "stdout",
     "output_type": "stream",
     "text": [
      "A derivada de P em relação a V no ponto V = 0.5 V é aproximadamente 2.545191 W/V\n"
     ]
    }
   ],
   "source": [
    "import numpy as np\n",
    "\n",
    "# Model\n",
    "\n",
    "I_ph = 3.0   # corrente fotogerada em amperes\n",
    "I_0 = 1e-10  # corrente de saturação do diodo em amperes\n",
    "n = 1        # fator de idealidade do diodo\n",
    "V_T = 0.026  # tensão térmica em volts\n",
    "\n",
    "# Função de corrente\n",
    "def I(V):\n",
    "\treturn I_ph - I_0 * (np.exp(V / (n * V_T)) - 1)\n",
    "\n",
    "# Função de potência\n",
    "def P(V):\n",
    "\treturn I(V) * V\n",
    "\n",
    "# Derivada da função de potência\n",
    "def dPdV(V, h = 1e-5):\n",
    "\treturn (P(V + h) - P(V - h)) / (2 * h)\n",
    "\n",
    "# Cálculo da derivada no ponto V = 0.5 V\n",
    "V = 0.5\n",
    "derivada = dPdV(V)\n",
    "\n",
    "print(f\"A derivada de P em relação a V no ponto V = {V} V é aproximadamente {derivada:.6f} W/V\")"
   ]
  }
 ],
 "metadata": {
  "kernelspec": {
   "display_name": ".venv",
   "language": "python",
   "name": "python3"
  },
  "language_info": {
   "codemirror_mode": {
    "name": "ipython",
    "version": 3
   },
   "file_extension": ".py",
   "mimetype": "text/x-python",
   "name": "python",
   "nbconvert_exporter": "python",
   "pygments_lexer": "ipython3",
   "version": "3.11.5"
  }
 },
 "nbformat": 4,
 "nbformat_minor": 2
}
