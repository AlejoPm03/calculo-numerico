{
 "cells": [
  {
   "cell_type": "markdown",
   "metadata": {},
   "source": [
    "\n",
    "# Apresentar um problema da área elétrica\n",
    "\n",
    "O problema em questão é a simulação do sistema fotovoltaico utilizado no barco solar do IFSC (Zenite Solar). O sistema é composto por um painel solar, um controlador de carga e uma bateria. A simulação é crucial tanto para a validação de algoritmos MPPT (Maximum Power Point Tracking) quanto para o dimensionamento adequado do sistema.\n",
    "\n",
    "![sistema](./assets/trabalho-pratico/sistema.png)\n",
    "\n",
    "Para modelar o sistema de forma eficaz, ele será dividido em três componentes principais:\n",
    "\n",
    "1. **Painel Solar**: Este é o foco do trabalho. O painel solar é responsável por converter a energia solar em energia elétrica. A modelagem precisa considerar fatores como a intensidade da luz solar e a eficiência do painel.\n",
    "\n",
    "2. **Controlador de Carga**: Este dispositivo gerencia o fluxo de energia elétrica entre o painel solar e a bateria. Ele é crucial para otimizar o armazenamento de energia e para proteger a bateria contra sobrecarga ou descarga excessiva.\n",
    "\n",
    "3. **Bateria**: A bateria armazena a energia elétrica gerada pelo painel solar. A modelagem deve considerar a capacidade da bateria, a eficiência de armazenamento e os limites de carga e descarga.\n",
    "\n",
    "O objetivo é desenvolver uma simulação precisa que possa ser usada para validar algoritmos MPPT e para dimensionar o sistema de forma eficiente.\n",
    "\n",
    "\n",
    "\n",
    "\n",
    "\n",
    "\n"
   ]
  },
  {
   "cell_type": "markdown",
   "metadata": {},
   "source": [
    "# Porquê que o problema é um problema\n",
    "\n",
    "A Importância e Complexidade da Simulação do Sistema Fotovoltaico do Barco Solar do IFSC (Zenite Solar)\n",
    "\n",
    "## Por Que o Problema é Importante\n",
    "\n",
    "O problema da simulação do sistema fotovoltaico do barco solar é crucial por várias razões:\n",
    "\n",
    "- Desenvolvimento de Algoritmos MPPT\n",
    "  - O modelo do painel solar é fundamental para o desenvolvimento e a validação de algoritmos de Rastreamento do Ponto de Máxima Potência (MPPT). Com um modelo preciso, é possível estimar o ganho do conversor no controlador de carga, maximizando assim a eficiência do sistema.\n",
    "\n",
    "- Planejamento Estratégico\n",
    "  - Um modelo preciso do sistema fotovoltaico é vital para o planejamento estratégico. Com dados confiáveis sobre o modelo e os parâmetros do sistema, além de previsões de irradiação solar, é possível desenvolver estratégias para competições futuras. Por exemplo, sabendo quanto energia o barco vai carregar durante uma prova, pode-se planejar o uso da energia de forma mais eficiente.\n",
    "\n",
    "- Dimensionamento do Sistema\n",
    "  - O modelo é útil para o dimensionamento adequado do sistema fotovoltaico, incluindo a seleção do tamanho do painel solar, a capacidade da bateria e as especificações do controlador de carga.\n",
    "\n",
    "Em resumo, a simulação é significativa porque pode levar a melhorias na eficiência, na estratégia e no dimensionamento do sistema, sendo crucial para o sucesso em competições e para a viabilidade a longo prazo do projeto.\n",
    "\n",
    "## Por Que o Problema tem dificuldades\n",
    "\n",
    "Além da sua importância, o problema apresenta desafios significativos que tornam sua resolução complexa:\n",
    "\n",
    "- Comportamento Não Linear do Painel Solar\n",
    "  - O painel solar tem um comportamento não linear. Isso significa que pequenas variações nas condições, como intensidade da luz solar ou temperatura, podem resultar em mudanças significativas na saída de energia. Isso torna a modelagem e a simulação mais complexas.\n",
    "\n",
    "- Dependência Circular entre Componentes\n",
    "  - A potência do painel solar depende da carga (como a bateria), e a carga depende da potência disponível do painel. Essa dependência circular torna a modelagem e a simulação mais desafiadoras, exigindo uma abordagem da modelagem do sistema integro.\n",
    "\n",
    "Em resumo, o problema é desafiador devido ao comportamento não linear dos componentes e à interdependência entre eles, exigindo uma abordagem de modelagem e simulação mais sofisticada para resultados precisos e úteis.\n"
   ]
  },
  {
   "cell_type": "markdown",
   "metadata": {},
   "source": [
    "# Apresentação da solução analítica ou a explicação do porquê ela não é possível\n",
    "\n",
    "O Modelo do painel solar pode ser descrito por:\n",
    "\n",
    "![](./assets/panel_electric_model.jpg)\n",
    "\n",
    "$$\n",
    "I = I_{ph} - I_0 \\left( e^{\\frac{V + IR_s}{nV_T}} - 1 \\right) - \\frac{V + IR_s}{R_{sh}}\n",
    "$$\n",
    "\n",
    "Onde:\n",
    "\n",
    "- $I$ é a corrente de saída do painel solar.\n",
    "- $I_{ph}$ é a corrente fotogerada.\n",
    "- $I_0$ é a corrente de saturação reversa do diodo.\n",
    "- $V$ é a tensão de saída do painel solar.\n",
    "- $R_s$ é a resistência série.\n",
    "- $R_{sh}$ é a resistência shunt.\n",
    "- $n$ é o fator de idealidade do diodo.\n",
    "- $V_T$ é a tensão térmica.\n",
    "\n",
    "O controlador de carga é modelado como um conversor DC-DC Cùk, O modelo do ganho do conversor Cùk é dado por:\n",
    "$$\n",
    "\\frac{V_{out}}{V_{in}} = \\frac{1}{1 - D}\n",
    "$$\n",
    "\n",
    "Onde:\n",
    "- $V_{out}$ é a tensão de saída do conversor (V).\n",
    "- $V_{in}$ é a tensão de entrada do conversor (V).\n",
    "- $D$ é o ciclo de trabalho do conversor.\n",
    "\n",
    "A bateria é modelada como um resistor de carga com uma fonte de tensão, a corrente de carga da bateria é dada por:\n",
    "$$\n",
    "I_{bat} = \\frac{V_{bat} - V_{out}}{R_{bat}}\n",
    "$$\n",
    "\n",
    "Onde:\n",
    "- $I_{bat}$ é a corrente de carga da bateria (A).\n",
    "- $V_{bat}$ é a tensão da bateria a circuito aberto (V).\n",
    "- $V_{out}$ é a tensão de saída do conversor (V).\n",
    "- $R_{bat}$ é a resistência de carga da bateria ($\\Omega$).\n",
    "\n",
    "Sistema de equações:\n",
    "\n",
    "\\begin{align*}\n",
    "\\text{Painel Solar:} \\quad I &= I_{l} - I_0 \\left( e^{\\frac{V + IR_s}{nV_T}} - 1 \\right) - \\frac{V + IR_s}{R_{sh}}, \\\\\n",
    "\\text{Conversor DC-DC Cùk:} \\quad \\frac{V_{out}}{V_{in}} &= \\frac{1}{1 - D}, \\\\\n",
    "\\text{Bateria:} \\quad I_{bat} &= \\frac{V_{bat} - V_{out}}{R_{bat}}.\n",
    "\\end{align*}\n",
    "\n",
    "\n",
    "Para representar todo o sistema em uma única equação, teria que expressar uma variável em termos das outras. No entanto, o sistema é não-linear e composto por várias partes interdependentes, o que torna difícil condensá-lo em uma única equação analítica, ja que a corrente do painel solar depende dela mesma. Portanto, a solução analítica não é possível.\n",
    "\n"
   ]
  },
  {
   "cell_type": "markdown",
   "metadata": {},
   "source": [
    "# Escolher e justificar a escolha de um método numérico que resolva o problema proposto\n",
    "\n",
    "- Não-linearidade\n",
    "  - O sistema é não-linear, especialmente a parte do painel solar. Newton-Raphson é bom para resolver equações não-lineares.\n",
    "\n",
    "- Fácil de Implementar\n",
    "  - É um método bem conhecido e fácil de implementar em código, com muitas bibliotecas já disponíveis.\n",
    "\n",
    "- Lida com Interdependência\n",
    "  - As equações estão interligadas; mudar uma afeta as outras. Newton-Raphson pode lidar com isso, resolvendo todas as equações juntas.\n",
    "\n",
    "Em resumo, Newton-Raphson é rápido, flexível e fácil de usar, tornando-o uma boa escolha para resolver este sistema complicado.\n",
    "\n"
   ]
  },
  {
   "cell_type": "markdown",
   "metadata": {},
   "source": [
    "# Apresentar a resolução do problema pelo método numérico escolhido\n",
    "\n",
    "\n",
    "\n",
    "O controlador de carga é modelado como um conversor DC-DC Cùk, O modelo do ganho do conversor Cùk é dado por:\n",
    "$$\n",
    "\\frac{V_{out}}{V_{in}} = \\frac{1}{1 - D}\n",
    "$$\n",
    "\n",
    "Onde:\n",
    "- $V_{out}$ é a tensão de saída do conversor (V).\n",
    "- $V_{in}$ é a tensão de entrada do conversor (V).\n",
    "- $D$ é o ciclo de trabalho do conversor.\n",
    "\n",
    "A bateria é modelada como um resistor de carga com uma fonte de tensão, a corrente de carga da bateria é dada por:\n",
    "$$\n",
    "I_{bat} = \\frac{V_{bat} - V_{out}}{R_{bat}}\n",
    "$$\n",
    "\n",
    "Onde:\n",
    "- $I_{bat}$ é a corrente de carga da bateria (A).\n",
    "- $V_{bat}$ é a tensão da bateria a circuito aberto (V).\n",
    "- $V_{out}$ é a tensão de saída do conversor (V).\n",
    "- $R_{bat}$ é a resistência de carga da bateria ($\\Omega$).\n"
   ]
  },
  {
   "cell_type": "markdown",
   "metadata": {},
   "source": [
    "## Painel Solar\n",
    "\n",
    "O painel solar do barco é RNG-175DB-H e será modelado com o modelo de diodo unico com duas resistencias, o modelo pode ser visto na figura abaixo.\n",
    "\n",
    "![](./assets/panel_electric_model.jpg)\n",
    "\n",
    "$$\n",
    "I = I_{ph} - I_{d} - I_{sh} \\\\\n",
    "I = I_{ph} - I_0 \\left( e^{\\frac{\\frac{V}{Ns} + IR_s}{nV_T}} - 1 \\right) - \\frac{\\frac{V}{Ns} + IR_s}{R_{sh}}\n",
    "$$\n",
    "\n",
    "Onde:\n",
    "\n",
    "- $I$ é a corrente de saída do painel solar.\n",
    "- $I_{ph}$ é a corrente fotogerada.\n",
    "- $I_0$ é a corrente de saturação reversa do diodo.\n",
    "- $V$ é a tensão de saída do painel solar.\n",
    "- $R_s$ é a resistência série.\n",
    "- $R_{sh}$ é a resistência shunt.\n",
    "- $n$ é o fator de idealidade do diodo.\n",
    "- $V_T$ é a tensão térmica.\n",
    "- $Ns$ numero de celulas em serie\n",
    "\n",
    "Segundo o datasheet e a tecnologia do painel, os valores dos parâmetros são, está sendo considerado a temperatura ambiente de 25°C:"
   ]
  },
  {
   "cell_type": "code",
   "execution_count": 401,
   "metadata": {},
   "outputs": [
    {
     "name": "stdout",
     "output_type": "stream",
     "text": [
      "1.2307138467741662e-09\n"
     ]
    }
   ],
   "source": [
    "import numpy as np\n",
    "# Number of cells in series\n",
    "Ns = 36\n",
    "# Monocrystalline cell Ideality factor\n",
    "n = 1.16\n",
    "# Boltzmann‘s constant\n",
    "k = 1.38064852e-23\n",
    "# Band gap energy of the silicon\n",
    "Eg = 1.17\n",
    "# Electron charge\n",
    "q = 1.60217662e-19\n",
    "# Temperature in Kelvin\n",
    "T = 300\n",
    "# Temperature reference in Kelvin\n",
    "Tr = 298\n",
    "# Cell‘s short circuit current at STC\n",
    "Ior = 2e-5\n",
    "# Shunt resistance\n",
    "Rs = 0.1\n",
    "# Series resistance\n",
    "Rsh = 330.0\n",
    "# Open-circuit voltage\n",
    "Voc = 24.9\n",
    "# Short-circuit current\n",
    "Isc = 9.65\n",
    "Iscr = Isc\n",
    "# Cell‘s short-circuit current temperature coefficient\n",
    "ki = (0.05 / 100) * Isc\n",
    "# Reference solar radiation\n",
    "Sr = 1000\n",
    "# Solar irradiance\n",
    "S = 1000\n",
    "\n",
    "\n",
    "# Reverse saturation current\n",
    "Ior = Isc / (np.exp((q * Voc / Ns) / (n * k * T)) - 1)\n",
    "Io = Ior * ((T / Tr)**3) * np.exp((q * Eg / (n * k)) * ((1 / Tr) - (1 / T)))\n",
    "\n",
    "# Thermal junction voltage\n",
    "Vt = k * T / q\n",
    "\n",
    "# Light-generated current or photocurrent\n",
    "Iph = (Iscr + ki * (T - Tr)) * (S / Sr)\n",
    "\n",
    "print(Io)\n"
   ]
  },
  {
   "cell_type": "markdown",
   "metadata": {},
   "source": [
    "### Montando a equação do painel solar\n",
    "\n",
    "\n",
    "\n"
   ]
  },
  {
   "cell_type": "code",
   "execution_count": 545,
   "metadata": {},
   "outputs": [
    {
     "data": {
      "text/latex": [
       "$\\displaystyle - 1.00030303030303 I_{pan} - 0.00303030303030303 V_{pan} - 1.23071384677417 \\cdot 10^{-9} e^{0.0926286881753403 I_{pan} + 0.926286881753403 V_{pan}} + 9.65965000123071$"
      ],
      "text/plain": [
       "-1.00030303030303*I_pan - 0.00303030303030303*V_pan - 1.23071384677417e-9*exp(0.0926286881753403*I_pan + 0.926286881753403*V_pan) + 9.65965000123071"
      ]
     },
     "metadata": {},
     "output_type": "display_data"
    }
   ],
   "source": [
    "import sympy as sym\n",
    "import scipy as sci\n",
    "import matplotlib.pyplot as plt\n",
    "\n",
    "V_pan, I_pan = sym.symbols('V_pan I_pan')\n",
    "panel = (Iph - (Io * (sym.exp((((V_pan) + I_pan * Rs) / (n * Ns * Vt))) - 1)) - ((V_pan) + I_pan * Rs) / Rsh) - I_pan\n",
    "display(panel)\n"
   ]
  },
  {
   "cell_type": "markdown",
   "metadata": {},
   "source": [
    "## Controlador de Carga\n",
    "\n",
    "O controlador de carga é modelado como um conversor DC-DC Cùk, O modelo do ganho do conversor Cùk é dado por:\n",
    "$$\n",
    "\\frac{V_{out}}{V_{in}} = \\frac{1}{1 - D}\n",
    "$$"
   ]
  },
  {
   "cell_type": "markdown",
   "metadata": {},
   "source": [
    "### Montando a equação do controlador de carga\n",
    "\n",
    "$$\n",
    "0 = \\frac{V_{out}}{V_{in}} - \\frac{1}{1 - D}\n",
    "$$\n",
    "\n"
   ]
  },
  {
   "cell_type": "code",
   "execution_count": 534,
   "metadata": {},
   "outputs": [
    {
     "data": {
      "text/latex": [
       "$\\displaystyle \\frac{V_{cuk}}{V_{pan}} - \\frac{1}{1 - D}$"
      ],
      "text/plain": [
       "V_cuk/V_pan - 1/(1 - D)"
      ]
     },
     "metadata": {},
     "output_type": "display_data"
    }
   ],
   "source": [
    "# Duty cycle\n",
    "D = sym.symbols('D')\n",
    "V_cuk = sym.symbols('V_cuk')\n",
    "\n",
    "cuk = (V_cuk / V_pan) - (1 / (1 - D))\n",
    "\n",
    "display(cuk)\n",
    "\n"
   ]
  },
  {
   "cell_type": "markdown",
   "metadata": {},
   "source": [
    "## Batéria\n",
    "\n",
    "A bateria são 3 baterias em serie de 12V yellow-top da Optima, para simplificar o modelo, será considerado apenas uma bateria de 36V e o modelo so terá em conta a resistencia interna da bateria."
   ]
  },
  {
   "cell_type": "markdown",
   "metadata": {},
   "source": [
    "### Montando a equação da bateria\n",
    "\n",
    "$$\n",
    "0 = I_{bat} - \\frac{V_{cuk} - V_{bat}}{R_{bat}}\n",
    "$$"
   ]
  },
  {
   "cell_type": "code",
   "execution_count": 565,
   "metadata": {},
   "outputs": [
    {
     "data": {
      "text/latex": [
       "$\\displaystyle - \\frac{I_{pan} V_{pan}}{36} + 10.0 V_{cuk} - 360.0$"
      ],
      "text/plain": [
       "-I_pan*V_pan/36 + 10.0*V_cuk - 360.0"
      ]
     },
     "metadata": {},
     "output_type": "display_data"
    }
   ],
   "source": [
    "V_bat = sym.symbols('V_bat')\n",
    "\n",
    "# Internal resistance of the battery\n",
    "R_bat = 0.1 \n",
    "# open circuit Battery voltage \n",
    "V_bat = 12 * 3 \n",
    "\n",
    "# Battery current (considering cuk eficciency = 1)\n",
    "I_bat = V_pan * I_pan / V_bat\n",
    "\n",
    "bat = ((V_cuk - V_bat) / R_bat) - I_bat\n",
    "\n",
    "display(bat)"
   ]
  },
  {
   "cell_type": "markdown",
   "metadata": {},
   "source": [
    "## Montando a equação do sistema"
   ]
  },
  {
   "cell_type": "markdown",
   "metadata": {},
   "source": [
    "#### Como o conversor e a bateria são lineares podem ser unidos em uma unica equação"
   ]
  },
  {
   "cell_type": "code",
   "execution_count": 538,
   "metadata": {},
   "outputs": [
    {
     "data": {
      "text/latex": [
       "$\\displaystyle - \\frac{I_{pan} V_{pan}}{36} - \\frac{10.0 V_{pan}}{D - 1} - 360.0$"
      ],
      "text/plain": [
       "-I_pan*V_pan/36 - 10.0*V_pan/(D - 1) - 360.0"
      ]
     },
     "metadata": {},
     "output_type": "display_data"
    }
   ],
   "source": [
    "bat_cuk = bat.subs(V_cuk, sym.solve(cuk, V_cuk)[0])\n",
    "\n",
    "display(bat.subs(V_cuk, sym.solve(cuk, V_cuk)[0]))"
   ]
  },
  {
   "cell_type": "markdown",
   "metadata": {},
   "source": [
    "#### Montando o sistema de equações\n",
    "\n",
    "$$\n",
    "\\begin{equation}\n",
    "    \\begin{cases}\n",
    "      - 1.00030303030303 I_{pan} - 0.00303030303030303 V_{pan} - 1.23071384677417 \\cdot 10^{-9} e^{0.0926286881753403 I_{pan} + 0.926286881753403 V_{pan}} + 9.65965000123071  = 0\\\\\n",
    "      - \\frac{I_{pan} V_{pan}}{36} - \\frac{10.0 V_{pan}}{D - 1} - 360.0 = 0\n",
    "    \\end{cases}\\,.\n",
    "\\end{equation}\n",
    "$$"
   ]
  },
  {
   "cell_type": "code",
   "execution_count": 566,
   "metadata": {},
   "outputs": [
    {
     "data": {
      "text/plain": [
       "'- 1.00030303030303 I_{pan} - 0.00303030303030303 V_{pan} - 1.23071384677417 \\\\cdot 10^{-9} e^{0.0926286881753403 I_{pan} + 0.926286881753403 V_{pan}} + 9.65965000123071'"
      ]
     },
     "metadata": {},
     "output_type": "display_data"
    },
    {
     "data": {
      "text/plain": [
       "'- \\\\frac{I_{pan} V_{pan}}{36} - \\\\frac{10.0 V_{pan}}{D - 1} - 360.0'"
      ]
     },
     "metadata": {},
     "output_type": "display_data"
    }
   ],
   "source": [
    "from  sympy import latex\n",
    "display(latex(panel))\n",
    "display(latex(bat_cuk))\n"
   ]
  },
  {
   "cell_type": "markdown",
   "metadata": {},
   "source": [
    "### Resolvendo o sistema de equações\n",
    "\n",
    "Para isto sera calculado o jacobiano do sistema de equações e resolvido pelo metodo de Newton-Raphson."
   ]
  },
  {
   "cell_type": "code",
   "execution_count": 540,
   "metadata": {},
   "outputs": [],
   "source": [
    "\n",
    "# Newton-Raphson method\n",
    "def newton_raphson(f, x0, jacobian, tol, max_iter):\n",
    "\tx = x0\n",
    "\n",
    "\tfor i in range(max_iter):\n",
    "\t\tf_value = f(x)\n",
    "\n",
    "\t\t# Resovling deltas\n",
    "\t\tinv_J = np.linalg.inv(jacobian(x))\n",
    "\t\tdelta = np.dot(inv_J, -f_value)\n",
    "\n",
    "\t\tx = x + delta\n",
    "\n",
    "\t\titers = i\n",
    "\t\tif np.linalg.norm(delta) < tol:\n",
    "\t\t\tbreak\n",
    "\n",
    "\n",
    "\treturn x, iters\n",
    "\t"
   ]
  },
  {
   "cell_type": "code",
   "execution_count": 553,
   "metadata": {},
   "outputs": [],
   "source": [
    "import scipy.optimize as opt\n",
    "\n",
    "def solve_system(duty):\n",
    "\t# Forcing a duty cycle\n",
    "\tbat_cuk_duty = bat_cuk.subs(D, duty)\n",
    "\n",
    "\t# Lambdify the functions\n",
    "\tpanel_lamb = sym.lambdify((V_pan, I_pan), panel)\n",
    "\tbat_cuk_lamb = sym.lambdify((V_pan, I_pan), bat_cuk_duty)\n",
    "\n",
    "\n",
    "\n",
    "\t# Adapt the functions to numpy\n",
    "\tdef f1(x):\n",
    "\t\treturn panel_lamb(x[0], x[1])\n",
    "\n",
    "\tdef f2(x):\n",
    "\t\t# force a duty cycle\n",
    "\t\treturn bat_cuk_lamb(x[0], x[1])\n",
    "\n",
    "\tJ = sym.Matrix(\n",
    "\t\t\t[\n",
    "\t\t\t\t[sym.diff(panel, V_pan), sym.diff(panel, I_pan)],\n",
    "\t\t\t\t[sym.diff(bat_cuk_duty, V_pan), sym.diff(bat_cuk_duty, I_pan)]\n",
    "\t\t\t]\n",
    "\t\t)\n",
    "\n",
    "\t# Convert sympy to numpy\n",
    "\tJ = sym.lambdify((V_pan, I_pan), J)\n",
    "\n",
    "\tdef jacobian(x):\n",
    "\t\treturn J(x[0], x[1])\n",
    "\n",
    "\n",
    "\t# Initial guess\n",
    "\tx0 = [18, 9]\n",
    "\n",
    "\t# Solve the system of equations\n",
    "\tlambda x: np.array([f1(x), f2(x)]).flatten()\n",
    "\n",
    "\tres, iter = newton_raphson(lambda x: np.array([f1(x), f2(x)]).flatten(), x0, jacobian, 1e-6, 100)\n",
    "\n",
    "\t# Get the solution\n",
    "\treturn res\n"
   ]
  },
  {
   "cell_type": "markdown",
   "metadata": {},
   "source": [
    "### Mostrando os resultados"
   ]
  },
  {
   "cell_type": "code",
   "execution_count": 570,
   "metadata": {},
   "outputs": [
    {
     "data": {
      "text/plain": [
       "Text(0.5, 0, 'Duty cycle')"
      ]
     },
     "execution_count": 570,
     "metadata": {},
     "output_type": "execute_result"
    },
    {
     "data": {
      "image/png": "[encoded data removed]",
      "text/plain": [
       "<Figure size 640x480 with 1 Axes>"
      ]
     },
     "metadata": {},
     "output_type": "display_data"
    },
    {
     "data": {
      "image/png": "[encoded data removed]",
      "text/plain": [
       "<Figure size 640x480 with 1 Axes>"
      ]
     },
     "metadata": {},
     "output_type": "display_data"
    },
    {
     "data": {
      "image/png": "[encoded data removed]",
      "text/plain": [
       "<Figure size 640x480 with 1 Axes>"
      ]
     },
     "metadata": {},
     "output_type": "display_data"
    }
   ],
   "source": [
    "# Plot some duty cycles\n",
    "duty_cycles = np.linspace(0.35, 0.9, 100)\n",
    "\n",
    "# Plot the P x D curve\n",
    "plt.figure()\n",
    "power = []\n",
    "for duty in duty_cycles:\n",
    "\tres = solve_system(duty)\n",
    "\tpower.append(res[0] * res[1])\n",
    "\n",
    "# Plot the solution\n",
    "plt.plot(duty_cycles, power)\n",
    "plt.title(\"P x D\")\n",
    "plt.grid()\n",
    "plt.ylabel('Power (W)')\n",
    "plt.xlabel('Duty cycle')\n",
    "\n",
    "# Plot the V x D curve\n",
    "plt.figure()\n",
    "voltage = []\n",
    "for duty in duty_cycles:\n",
    "\tres = solve_system(duty)\n",
    "\tvoltage.append(res[0])\n",
    "\n",
    "# Plot the solution\n",
    "plt.plot(duty_cycles, voltage)\n",
    "plt.title(\"V x D\")\n",
    "plt.grid()\n",
    "plt.ylabel('Voltage (V)')\n",
    "plt.xlabel('Duty cycle')\n",
    "\n",
    "\n",
    "# Plot the I x D curve\n",
    "plt.figure()\n",
    "current = []\n",
    "for duty in duty_cycles:\n",
    "\tres = solve_system(duty)\n",
    "\tcurrent.append(res[1])\n",
    "\n",
    "# Plot the solution\n",
    "plt.plot(duty_cycles, current)\n",
    "plt.title(\"I x D\")\n",
    "plt.grid()\n",
    "plt.ylabel('Current (A)')\n",
    "plt.xlabel('Duty cycle')\n"
   ]
  },
  {
   "cell_type": "markdown",
   "metadata": {},
   "source": [
    "# Justificar se a solução obtida é adequada – considerações finais\n"
   ]
  },
  {
   "cell_type": "markdown",
   "metadata": {},
   "source": [
    "# Referências bibliográficas.\n",
    "\n",
    "Modelo painel solar:\n",
    "\n",
    "https://www.researchgate.net/publication/301602460_Mathematical_Modeling_and_Digital_Simulation_of_PV_Solar_Panel_using_MATLAB_Software\n",
    "\n",
    "https://www.e3s-conferences.org/articles/e3sconf/pdf/2019/66/e3sconf_eece18_04013.pdf\n",
    "\n",
    "https://environmentalsystemsresearch.springeropen.com/articles/10.1186/s40068-015-0047-9\n",
    "\n",
    "https://www.mdpi.com/1996-1073/16/4/2018\n",
    "\n",
    "Modelo bateria:\n",
    "\n",
    "https://www.mathworks.com/content/dam/mathworks/tag-team/Objects/s/40542_SAE-2007-01-0778-Battery-Modeling-Process.pdf\n",
    "\n",
    "Painel solar\n",
    "\n",
    "https://www.renogy.com/content/Manual/RNG-175DB-H.pdf"
   ]
  }
 ],
 "metadata": {
  "kernelspec": {
   "display_name": ".venv",
   "language": "python",
   "name": "python3"
  },
  "language_info": {
   "codemirror_mode": {
    "name": "ipython",
    "version": 3
   },
   "file_extension": ".py",
   "mimetype": "text/x-python",
   "name": "python",
   "nbconvert_exporter": "python",
   "pygments_lexer": "ipython3",
   "version": "3.11.5"
  },
  "orig_nbformat": 4
 },
 "nbformat": 4,
 "nbformat_minor": 2
}
