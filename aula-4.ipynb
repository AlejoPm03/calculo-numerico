{
 "cells": [
  {
   "cell_type": "markdown",
   "metadata": {},
   "source": [
    "# Resolva o problema proposto por:\n",
    "\n",
    "**Métodos diretos:**\n",
    "- Cramer;\n",
    "- Eliminação de Gauss;\n",
    "- Fatoração LU;\n",
    "- Fatoração de Cholesky; (só no computador)\n",
    "\n",
    "**Métodos iterativos:**\n",
    "- Gauss-Siedel."
   ]
  },
  {
   "cell_type": "markdown",
   "metadata": {},
   "source": [
    "# Problema\n",
    "Determinar a corrente em cada resistor do circuito abaixo:\n",
    "\n",
    "![](./assets/circuito.png)"
   ]
  },
  {
   "cell_type": "markdown",
   "metadata": {},
   "source": [
    "# Solução\n",
    "\n",
    "Para solucionar o circuito a seguir, sera utilizada a lei de Kirchhof, e sera representado na forma matricial, e com os metodos estudados sera resolvido o sistema\n",
    "\n",
    "$$\n",
    "I_{1} * 10 + I_{1} * 5 + I_{1} * 15 + (I_{1} - I_{2}) * 10 = 0 \\\\\n",
    "I_{2} * 5 + (I_{2} - I_{1}) * 10 + I_{2} * 20 = 200 \\\\\n",
    "$$\n",
    "\n",
    "$$\n",
    "I_{23} = I_{34} = I_{45} = I_{1} \\\\\n",
    "I_{12} = I_{56} = I_{2} \\\\\n",
    "I_{25} = I_{2} - I_{1} \\\\\n",
    "$$\n",
    "\n",
    "Simplificando:\n",
    "$$\n",
    "40I_{1} - 10I_{2} = 0 \\\\\n",
    "-10I_{1} + 35I_{2} = 200 \\\\\n",
    "$$\n",
    "Colocando na forma matricial:\n",
    "$$\n",
    "\\begin{bmatrix}\n",
    "40 & -10 \\\\\n",
    "-10 & 35 \\\\\n",
    "\\end{bmatrix}\n",
    "\\begin{bmatrix}\n",
    "I_{1} \\\\\n",
    "I_{2} \\\\\n",
    "\\end{bmatrix}\n",
    "=\n",
    "\\begin{bmatrix}\n",
    "0 \\\\\n",
    "200 \\\\\n",
    "\\end{bmatrix}\n",
    "$$\n",
    "\n",
    "\n",
    "\n",
    "\n"
   ]
  },
  {
   "cell_type": "markdown",
   "metadata": {},
   "source": [
    "### Definindo a matriz em codigo"
   ]
  },
  {
   "cell_type": "code",
   "execution_count": 11,
   "metadata": {},
   "outputs": [],
   "source": [
    "import numpy as np\n",
    "\n",
    "# Coefficient matrix\n",
    "a = np.array(\n",
    "\t[\n",
    "\t\t[40, -10],\n",
    "\t\t[-10, 35]\n",
    "\t]\n",
    ")\n",
    "\n",
    "# Independent terms\n",
    "b = np.array(\n",
    "\t[\n",
    "\t\t[0],\n",
    "\t\t[200]\n",
    "\t]\n",
    ")\n"
   ]
  },
  {
   "cell_type": "markdown",
   "metadata": {},
   "source": [
    "### Cramer"
   ]
  },
  {
   "cell_type": "code",
   "execution_count": 17,
   "metadata": {},
   "outputs": [
    {
     "name": "stdout",
     "output_type": "stream",
     "text": [
      "Original Matrix a:\n",
      "[[ 40 -10]\n",
      " [-10  35]]\n",
      "Original Vector b:\n",
      "[[  0]\n",
      " [200]]\n",
      "Solution x:\n",
      "[1.53846154 6.15384615]\n"
     ]
    }
   ],
   "source": [
    "import numpy as np\n",
    "\n",
    "def crammer(a: np.ndarray , b: np.ndarray) -> np.array:\n",
    "\ta = a.astype(float)  # Ensure a is a float matrix\n",
    "\tb = b.astype(float)  # Ensure b is a float vector\n",
    "\n",
    "\t# Determinant of the coefficient matrix\n",
    "\tdet = np.linalg.det(a)\n",
    "\n",
    "\t# Create the variable vector\n",
    "\tx = np.zeros(len(a))\n",
    "\n",
    "\t# For column in the coefficient matrix\n",
    "\tfor i in range(len(a)):\n",
    "\t\t# Copy the coefficient matrix\n",
    "\t\ta_c = np.copy(a)\n",
    "\n",
    "\t\t# Replace the column with the independent terms\n",
    "\t\ta_c[:, i] = b[:, 0]\n",
    "\n",
    "\t\t# Calculate the determinant of the new matrix\n",
    "\t\tdet_c = np.linalg.det(a_c)\n",
    "\n",
    "\t\t# Calculate the value of the variable\n",
    "\t\tx[i] = det_c / det\n",
    "\t\t\n",
    "\t# Return the variable vector\n",
    "\treturn x\n",
    "\n",
    "print(\"Original Matrix a:\")\n",
    "print(a)\n",
    "\n",
    "print(\"Original Vector b:\")\n",
    "print(b)\n",
    "\n",
    "x = crammer(a, b)\n",
    "print(\"Solution x:\")\n",
    "print(x)\n"
   ]
  },
  {
   "cell_type": "markdown",
   "metadata": {},
   "source": [
    "### Eliminação de Gauss"
   ]
  },
  {
   "cell_type": "code",
   "execution_count": 16,
   "metadata": {},
   "outputs": [
    {
     "name": "stdout",
     "output_type": "stream",
     "text": [
      "Original Matrix a:\n",
      "[[ 40 -10]\n",
      " [-10  35]]\n",
      "Original Vector b:\n",
      "[[  0]\n",
      " [200]]\n",
      "Solution x:\n",
      "[1.53846154 6.15384615]\n"
     ]
    }
   ],
   "source": [
    "import numpy as np\n",
    "\n",
    "# adapted from https://en.wikipedia.org/wiki/Gaussian_elimination#Pseudocode\n",
    "def gauss_elimination(a: np.ndarray, b: np.ndarray) -> np.array:\n",
    "\ta = a.astype(float)  # Ensure a is a float matrix\n",
    "\tb = b.astype(float)  # Ensure b is a float vector\n",
    "\t\n",
    "\t# Create a copy of a to avoid modifying the original matrix\n",
    "\ta_copy = np.copy(a)\n",
    "\t\n",
    "\t# Create an augmented matrix ab by stacking a and b horizontally\n",
    "\tab = np.hstack([a_copy, b.reshape(-1, 1)])\n",
    "\n",
    "\tm, n = a.shape  # Gest the number of rows (m) and columns (n)\n",
    "\th = 0  # Initialization of the pivot row\n",
    "\tk = 0  # Initialization of the pivot column\n",
    "\n",
    "\twhile h < m and k < n:\n",
    "\t\t# Find the k-th pivot\n",
    "\t\ti_max = np.argmax(np.abs(ab[h:m, k])) + h\n",
    "\t\tif ab[i_max, k] == 0:\n",
    "\t\t\t# No pivot in this column, pass to next column\n",
    "\t\t\tk += 1\n",
    "\t\telse:\n",
    "\t\t\t# Swap rows h and i_max\n",
    "\t\t\tab[[h, i_max]] = ab[[i_max, h]]\n",
    "\n",
    "\t\t\t# Do for all rows below pivot\n",
    "\t\t\tfor i in range(h + 1, m):\n",
    "\t\t\t\tf = ab[i, k] / ab[h, k]\n",
    "\t\t\t\t\n",
    "\t\t\t\t# Fill with zeros the lower part of pivot column\n",
    "\t\t\t\tab[i, k] = 0\n",
    "\t\t\t\t\n",
    "\t\t\t\t# Do for all remaining elements in current row\n",
    "\t\t\t\tfor j in range(k + 1, n + 1):  # n+1 to include the last column of ab\n",
    "\t\t\t\t\tab[i, j] -= ab[h, j] * f\n",
    "\n",
    "\t\t\t# Increase pivot row and column\n",
    "\t\t\th += 1\n",
    "\t\t\tk += 1\n",
    "\n",
    "\t# back-substitution to find the solution x\n",
    "\tx = np.zeros(m)\n",
    "\tfor i in range(m - 1, -1, -1):\n",
    "\t\tx[i] = (ab[i, -1] - np.dot(ab[i, i+1:n], x[i+1:])) / ab[i, i]\n",
    "\n",
    "\treturn x\n",
    "\n",
    "\n",
    "print(\"Original Matrix a:\")\n",
    "print(a)\n",
    "\n",
    "print(\"Original Vector b:\")\n",
    "print(b)\n",
    "\n",
    "x = gauss_elimination(a, b)\n",
    "print(\"Solution x:\")\n",
    "print(x)"
   ]
  },
  {
   "cell_type": "markdown",
   "metadata": {},
   "source": [
    "### Fatoração LU\n",
    "Para a fatoração LU sera utilizado o metodo Doolittle's\n",
    "Algumas referencias:\n",
    "- [https://www.youtube.com/watch?v=C1aBCvn7CUU](https://www.youtube.com/watch?v=C1aBCvn7CUU)\n",
    "- [https://en.wikipedia.org/wiki/LU_decomposition#Doolittle_algorithm](https://en.wikipedia.org/wiki/LU_decomposition#Doolittle_algorithm)"
   ]
  },
  {
   "cell_type": "code",
   "execution_count": 21,
   "metadata": {},
   "outputs": [
    {
     "name": "stdout",
     "output_type": "stream",
     "text": [
      "Original Matrix a:\n",
      "[[ 40 -10]\n",
      " [-10  35]]\n",
      "Original Vector b:\n",
      "[[  0]\n",
      " [200]]\n",
      "LU decomposition of a:\n",
      "[[ 40.   -10.  ]\n",
      " [ -0.25  32.5 ]]\n",
      "Solution x:\n",
      "[[1.53846154]\n",
      " [6.15384615]]\n"
     ]
    }
   ],
   "source": [
    "import numpy as np\n",
    "\n",
    "# adapted from https://en.wikipedia.org/wiki/LU_decomposition#Code_examples\n",
    "import numpy as np\n",
    "\n",
    "def lu_doolittle(a):\n",
    "\tn = len(a)\n",
    "\tLU = np.copy(a).astype(float)\n",
    "\t# Using Doolittle's Method (for more information see https://en.wikipedia.org/wiki/LU_decomposition#Doolittle_algorithm)\n",
    "\tfor i in range(n):\n",
    "\t\tfor j in range(i):\n",
    "\t\t\tLU[i, j] = (LU[i, j] - np.dot(LU[i, :j], LU[:j, j])) / LU[j, j]\n",
    "\t\tj = np.arange(i, n)\n",
    "\t\tLU[i, j] = LU[i, j] - np.dot(LU[i, :i], LU[:i, j])\n",
    "\treturn LU\n",
    "\n",
    "def solve_linear_system(LU, b):\n",
    "\tn = len(LU)\n",
    "\ty = np.zeros_like(b, dtype=float)\n",
    "\t# Find solution of Ly = b\n",
    "\tfor i in range(n):\n",
    "\t\ty[i, :] = b[i, :] - np.dot(LU[i, :i+1], y[:i+1, :])\n",
    "\t# Find solution of Ux = y\n",
    "\tx = np.zeros_like(b, dtype=float)\n",
    "\tfor i in range(n-1, -1, -1):\n",
    "\t\tx[i, :] = (y[i, :] - np.dot(LU[i, i+1:], x[i+1:, :])) / LU[i, i]\n",
    "\treturn x\n",
    "\n",
    "\n",
    "print(\"Original Matrix a:\")\n",
    "print(a)\n",
    "\n",
    "print(\"Original Vector b:\")\n",
    "print(b)\n",
    "\n",
    "lu = lu_doolittle(a)\n",
    "\n",
    "print(\"LU decomposition of a:\")\n",
    "print(lu)\n",
    "\n",
    "x = solve_linear_system(lu, b)\n",
    "\n",
    "print(\"Solution x:\")\n",
    "print(x)"
   ]
  },
  {
   "cell_type": "code",
   "execution_count": null,
   "metadata": {},
   "outputs": [],
   "source": []
  }
 ],
 "metadata": {
  "kernelspec": {
   "display_name": ".venv",
   "language": "python",
   "name": "python3"
  },
  "language_info": {
   "codemirror_mode": {
    "name": "ipython",
    "version": 3
   },
   "file_extension": ".py",
   "mimetype": "text/x-python",
   "name": "python",
   "nbconvert_exporter": "python",
   "pygments_lexer": "ipython3",
   "version": "3.11.3"
  },
  "orig_nbformat": 4
 },
 "nbformat": 4,
 "nbformat_minor": 2
}
