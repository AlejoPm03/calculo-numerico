{
 "cells": [
  {
   "cell_type": "code",
   "execution_count": null,
   "metadata": {},
   "outputs": [],
   "source": [
    "# Installing dependencies\n",
    "%pip install -r requirements.txt"
   ]
  },
  {
   "cell_type": "markdown",
   "metadata": {},
   "source": [
    "# Explique ‘fenômeno físico’, ‘modelo matemático’ e ‘análise numérica’\n",
    "\n",
    "## Fenômeno Físico\n",
    "É um evento ou processo observável que ocorre no mundo real. Estes são governados por leis e princípios da física e podem ser descritos ou medidos.\n",
    "\n",
    "## Modelo Matemático\n",
    "É uma representação matemática de um fenômeno ou sistema real. Utiliza-se de equações ou conjuntos de equações para descrever relações entre variáveis e para prever comportamentos.\n",
    "\n",
    "## Análise Numérica \n",
    "É o estudo de algoritmos para a solução de problemas matemáticos. Em vez de soluções exatas, a análise numérica busca soluções aproximadas, especialmente útil para equações complexas ou sistemas que não têm soluções analíticas simples."
   ]
  },
  {
   "cell_type": "markdown",
   "metadata": {},
   "source": [
    "# Diferencie Acurácia e Precisão\n",
    "\n",
    "Acurácia: Refere-se à proximidade de uma medição ao valor verdadeiro ou real. Se suas medições são acuradas, isso significa que elas estão próximas do valor correto.\n",
    "\n",
    "Precisão: Refere-se à consistência ou reprodutibilidade das medições. Se suas medições são precisas, isso significa que elas são consistentes e próximas umas das outras, mesmo que não estejam necessariamente próximas do valor verdadeiro.\n",
    "\n",
    "Em resumo, acurácia está relacionada a quão correto é o seu resultado, enquanto precisão está relacionada a quão consistentes são seus resultados entre si."
   ]
  },
  {
   "cell_type": "markdown",
   "metadata": {},
   "source": [
    "# Explique ‘Ponto Flutuante\n",
    "\n",
    "É uma forma de representação numérica usada em computadores para aproximar números reais. Utiliza uma base e é composto por três partes: sinal, expoente e mantissa (ou fração). Essa representação permite que os computadores lidem com uma ampla gama de números, desde valores muito pequenos até muito grandes, mas pode introduzir erros de arredondamento devido à sua natureza aproximada."
   ]
  },
  {
   "cell_type": "markdown",
   "metadata": {},
   "source": [
    "# Monte uma tabela com um exemplo numérico de $x=m*\\beta ^ {e}$\n",
    "\n",
    "| Número (x) | Mantissa (m) | Expoente (e) | Representação |\n",
    "|------------|--------------|--------------|---------------|\n",
    "| 100        | 1            | 2            | $1*10^2$ \t   |\n",
    "| 0.01       | 1            | -2           | $1*10^-2$ \t   |\n",
    "| 50         | 5            | 1            | $5*10^1$ \t   |\n",
    "| 0.005      | 5            | -3           | $5*10^-3$ \t   |\n",
    "| 7000       | 7            | 3            | $7*10^3$ \t   |\n"
   ]
  },
  {
   "cell_type": "markdown",
   "metadata": {},
   "source": [
    "# Quais os valores de underflow e overflow da sua máquina\n",
    "\n",
    "Python usa representação de ponto flutuante de \"double precision\" (precisão dupla) do padrão IEEE 754.\n",
    "\n",
    "A representação de \"double precision\" no padrão IEEE 754 utiliza:\n",
    "- 1 bit para o sinal\n",
    "- 11 bits para o expoente\n",
    "- 52 bits para a mantissa\n",
    "\n",
    "- Underflow: O menor valor positivo normalizado em double precision é aproximadamente $2.2250738585072014e-308$\n",
    "\n",
    "- Overflow: O maior valor finito em double precision é aproximadamente $1.7976931348623157e+308$"
   ]
  },
  {
   "cell_type": "code",
   "execution_count": 1,
   "metadata": {},
   "outputs": [
    {
     "name": "stdout",
     "output_type": "stream",
     "text": [
      "Valor de undeflow:  2.2250738585072014e-308\n",
      "Valor de overflow:  1.7976931348623157e+308\n"
     ]
    }
   ],
   "source": [
    "import sys\n",
    "\n",
    "\n",
    "print(\"Valor de undeflow: \", sys.float_info.min)\n",
    "print(\"Valor de overflow: \", sys.float_info.max)\n"
   ]
  },
  {
   "cell_type": "markdown",
   "metadata": {},
   "source": [
    "# Exemplifique os três tipos de arredondamento\n",
    "\n",
    "**Arredondamento para cima ou excesso:** \n",
    "É quando um número que não pode ser representado exatamente é ajustado para o próximo número maior que pode ser representado. Em outras palavras, se estivermos entre dois números representáveis, escolhemos o maior.\n",
    "\n",
    "**Arredondamento para baixo ou por falta:**\n",
    "É o oposto do anterior. Se um número não pode ser representado exatamente, ele é ajustado para o próximo número menor que pode ser representado. Ou seja, entre dois números representáveis, escolhemos o menor.\n",
    "\n",
    "**Arredondamento para o número de máquina mais próximo:**\n",
    "Neste caso, arredondamos para o número representável mais próximo. Se estivermos exatamente no meio de dois números representáveis, há regras específicas para decidir qual escolher, como arredondar para o número par mais próximo."
   ]
  },
  {
   "cell_type": "markdown",
   "metadata": {},
   "source": [
    "# Exemplifique erro absoluto e erro relativo\n",
    "\n",
    "Dado um valor real $x$ e seu valor arredondado $\\Gamma(x)$:\n",
    "\n",
    "**Erro Absoluto**: É a diferença entre o valor arredondado e o valor real.\n",
    "$$\\text{Erro Absoluto} = |\\Gamma(x) - x|$$\n",
    "\n",
    "Por exemplo, se a largura real da mesa é $x = 1.50$ metros e a medição arredondada é $\\Gamma(x) = 1.52$ metros, o erro absoluto é:\n",
    "\n",
    "$$|\\Gamma(x) - x| = |1.52 - 1.50| = 0.02$$\n",
    "\n",
    "**Erro Relativo**: É o erro absoluto dividido pelo valor absoluto do valor real.\n",
    "$$\\text{Erro Relativo} = \\frac{|\\Gamma(x) - x|}{|x|}$$\n",
    "\n",
    "Usando o exemplo da mesa:\n",
    "$$\\text{Erro Relativo} = \\frac{|1,52 - 1,50|}{|1,50|} = \\frac{0,02}{1,50} = 0,0133$$\n",
    "Isso é aproximadamente 1,33%."
   ]
  },
  {
   "cell_type": "markdown",
   "metadata": {},
   "source": [
    "# Quais são os indutores de erros\n",
    "\n",
    "**1. Modelos ou Entrada de Dados (Erros Inerentes)**:\n",
    "Estes erros surgem devido a simplificações nos modelos ou imprecisões nos dados de entrada. Em engenharia, muitas vezes usamos modelos para representar sistemas ou fenômenos reais. No entanto, nenhum modelo pode capturar todas as nuances da realidade, levando a erros. Além disso, os dados que alimentam esses modelos podem ter suas próprias imprecisões, seja devido a medições imprecisas, estimativas ou outras fontes.\n",
    "\n",
    "**2. Arredondamento ou Truncamento**:\n",
    "Estes erros ocorrem devido às limitações na representação numérica em computadores. Os computadores têm uma precisão finita, o que significa que nem todos os números reais podem ser representados exatamente. O arredondamento envolve ajustar um número para o valor representável mais próximo, enquanto o truncamento envolve remover parte do número, para se ajustar à representação disponível. Ambos os processos podem introduzir discrepâncias entre o valor real e o valor representado."
   ]
  },
  {
   "cell_type": "markdown",
   "metadata": {},
   "source": [
    "# Conceitue problema mal-condicionado e bem-condicionado\n",
    "\n",
    "- **Mal-condicionada**: \n",
    "Pequenas variações nos dados de entrada causam grandes diferenças nos resultados. Há alta propagação de erros.\n",
    "- **Bem-condicionada**: \n",
    "Pequenas variações nos dados de entrada resultam em pequenas diferenças nos resultados."
   ]
  },
  {
   "cell_type": "markdown",
   "metadata": {},
   "source": [
    "# Explique o que é um processo iterativo.\n",
    "\n",
    "Métodos iterativos repetem cálculos para refinar resultados. Cada iteração usa o resultado anterior para obter uma aproximação mais precisa.\n"
   ]
  }
 ],
 "metadata": {
  "kernelspec": {
   "display_name": ".venv",
   "language": "python",
   "name": "python3"
  },
  "language_info": {
   "codemirror_mode": {
    "name": "ipython",
    "version": 3
   },
   "file_extension": ".py",
   "mimetype": "text/x-python",
   "name": "python",
   "nbconvert_exporter": "python",
   "pygments_lexer": "ipython3",
   "version": "3.11.3"
  },
  "orig_nbformat": 4
 },
 "nbformat": 4,
 "nbformat_minor": 2
}
