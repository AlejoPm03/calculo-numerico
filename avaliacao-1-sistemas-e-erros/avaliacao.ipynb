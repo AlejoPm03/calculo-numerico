{
 "cells": [
  {
   "cell_type": "code",
   "execution_count": 5,
   "metadata": {},
   "outputs": [],
   "source": [
    "import numpy as np\n",
    "import scipy as sci\n",
    "import sympy as sym"
   ]
  },
  {
   "cell_type": "markdown",
   "metadata": {},
   "source": [
    "# 6"
   ]
  },
  {
   "cell_type": "code",
   "execution_count": 128,
   "metadata": {},
   "outputs": [
    {
     "name": "stdout",
     "output_type": "stream",
     "text": [
      "f(0) = 1, iteration: 0, f'(0) = 4)\n",
      "f(-0.25) = 0.1875, iteration: 1, f'(-0.25) = 2.5)\n",
      "f(-0.325) = 0.016874999999999973, iteration: 2, f'(-0.325) = 2.05)\n",
      "f(-0.3332317073170732) = 0.0002032830160618726, iteration: 3, f'(-0.3332317073170732) = 2.000609756097561)\n",
      "f(-0.3333333178462842) = 3.097409895236325e-08, iteration: 4, f'(-0.3333333178462842) = 2.0000000929222947)\n",
      "x = -0.3333 in 5 iterations\n"
     ]
    }
   ],
   "source": [
    "# Newton-Raphson method\n",
    "\n",
    "import sympy as sym\n",
    "from collections.abc import Callable\n",
    "\n",
    "def newton_raphson(f: Callable[[float], float], df: Callable[[float], float], x0: float, tol: float, max_iteration: int = 1000) -> dict:\n",
    "\t# Starting the Newton-Raphson method\n",
    "\titeration = 0\n",
    "\tx = x0\n",
    "\tfx = f(x)\n",
    "\twhile np.abs(fx) > tol and max_iteration - iteration > 0:\n",
    "\t\tprint(f\"f({x}) = {f(x)}, iteration: {iteration}, f'({x}) = {df(x)})\")\n",
    "\t\t# Incrementing the iteration value\n",
    "\t\titeration += 1\n",
    "\t\t# Calculating the new x value\n",
    "\t\tx = x - fx / df(x)\n",
    "\t\t# Calculating the new f(x) value\n",
    "\t\tfx = f(x)\n",
    "\n",
    "\tif iteration == max_iteration:\n",
    "\t\tprint('Maximum number of iterations reached')\n",
    "\t\treturn None\n",
    "\t# Returning the x value\n",
    "\treturn {'solution': x, 'iters': iteration}\n",
    "\n",
    "\n",
    "# Defining symbols\n",
    "x = sym.Symbol('x')\n",
    "\n",
    "# Defining the f(x) symbolic function\n",
    "f = (3 * x**2) + 4 * x + 1\n",
    "f_lambda = sym.lambdify(x, f)\n",
    "# Defining the df(x) symbolic function\n",
    "df = sym.diff(f, x)\n",
    "\n",
    "# lambda function for df(R_s)\n",
    "df_lambda = sym.lambdify(x, df)\n",
    "\n",
    "# Defining the x initial value\n",
    "x0 = 0\n",
    "\n",
    "# Running the Newton-Raphson method\n",
    "out = newton_raphson(f_lambda, df_lambda, x0, 1e-12)\n",
    "\n",
    "# Printing the R_s value\n",
    "print(f'x = {round(out[\"solution\"], 4)} in {out[\"iters\"]} iterations')\n"
   ]
  },
  {
   "cell_type": "markdown",
   "metadata": {},
   "source": [
    "# Questão 7"
   ]
  },
  {
   "cell_type": "code",
   "execution_count": 129,
   "metadata": {},
   "outputs": [],
   "source": [
    "# Newton-Raphson method\n",
    "def newton_raphson(f, x0, jacobian, tol, max_iter):\n",
    "\tx = x0\n",
    "\n",
    "\tfor i in range(max_iter):\n",
    "\t\tf_value = f(x)\n",
    "\t\tf_value = np.around(f_value, 4)\n",
    "\t\tx = np.around(x, 4)\n",
    "\t\tprint(f\"f({x}) = {f_value} iter: {i}\")\n",
    "\t\t# Resovling deltas\n",
    "\t\tinv_J = np.linalg.inv(jacobian(x))\n",
    "\t\tdelta = np.dot(inv_J, -f_value)\n",
    "\t\txi = x\n",
    "\t\tx = x + delta\n",
    "\t\tx = np.around(x, 4)\n",
    "\t\titers = i\n",
    "\t\tea = np.around((np.abs(np.abs(x - xi) / np.abs(x)) * 100), 4)\n",
    "\t\tprint(f\"ea: {ea}\")\n",
    "\t\tif ea[0] < tol and ea[1] < tol:\n",
    "\t\t\tbreak\n",
    "\n",
    "\n",
    "\treturn x, iters\n"
   ]
  },
  {
   "cell_type": "code",
   "execution_count": 130,
   "metadata": {},
   "outputs": [
    {
     "data": {
      "text/latex": [
       "$\\displaystyle x_{1} + e^{x_{1} x_{2}} - 10$"
      ],
      "text/plain": [
       "x1 + exp(x1*x2) - 10"
      ]
     },
     "metadata": {},
     "output_type": "display_data"
    },
    {
     "data": {
      "text/latex": [
       "$\\displaystyle x_{1} + x_{2} - 3$"
      ],
      "text/plain": [
       "x1 + x2 - 3"
      ]
     },
     "metadata": {},
     "output_type": "display_data"
    }
   ],
   "source": [
    "x1, x2 = sym.symbols('x1 x2')\n",
    "\n",
    "f_1 = sym.exp(x1 * x2) + x1 - 10\n",
    "f_2 = x2 + x1 - 3\n",
    "\n",
    "display(f_1)\n",
    "display(f_2)"
   ]
  },
  {
   "cell_type": "code",
   "execution_count": 131,
   "metadata": {},
   "outputs": [
    {
     "name": "stdout",
     "output_type": "stream",
     "text": [
      "Jacobiano:\n"
     ]
    },
    {
     "data": {
      "text/latex": [
       "$\\displaystyle \\left[\\begin{matrix}x_{2} e^{x_{1} x_{2}} + 1 & x_{1} e^{x_{1} x_{2}}\\\\1 & 1\\end{matrix}\\right]$"
      ],
      "text/plain": [
       "Matrix([\n",
       "[x2*exp(x1*x2) + 1, x1*exp(x1*x2)],\n",
       "[                1,             1]])"
      ]
     },
     "metadata": {},
     "output_type": "display_data"
    },
    {
     "name": "stdout",
     "output_type": "stream",
     "text": [
      "===== Algoritmo =====\n",
      "f([1 2]) = [-1.6109  0.    ] iter: 0\n",
      "ea: [16.1074 10.6195]\n",
      "f([1.192 1.808]) = [-0.1789  0.    ] iter: 1\n",
      "ea: [2.3191 1.5902]\n",
      "f([1.2203 1.7797]) = [-0.0059  0.    ] iter: 2\n",
      "ea: [0.0819 0.0562]\n",
      "f([1.2213 1.7787]) = [-0.  0.] iter: 3\n",
      "ea: [0. 0.]\n"
     ]
    },
    {
     "data": {
      "text/plain": [
       "'x1:1.2213, x2:1.7787, em 3 iterações'"
      ]
     },
     "metadata": {},
     "output_type": "display_data"
    }
   ],
   "source": [
    "f_1_lambda = sym.lambdify((x1, x2), f_1)\n",
    "f_2_lambda = sym.lambdify((x1, x2), f_2)\n",
    "\n",
    "# Adapt the functions to numpy\n",
    "def f1(x):\n",
    "\treturn f_1_lambda(x[0], x[1])\n",
    "\n",
    "# Adapt the functions to numpy\n",
    "def f2(x):\n",
    "\treturn f_2_lambda(x[0], x[1])\n",
    "\n",
    "J = sym.Matrix(\n",
    "\t[\n",
    "\t\t[sym.diff(f_1, x1), sym.diff(f_1, x2)],\n",
    "\t\t[sym.diff(f_2, x1), sym.diff(f_2, x2)],\n",
    "\t]\n",
    "\t)\n",
    "print(\"Jacobiano:\")\n",
    "display(J)\n",
    "# Convert sympy to numpy\n",
    "J = sym.lambdify((x1, x2), J)\n",
    "\n",
    "def jacobian(x):\n",
    "\treturn J(x[0], x[1])\n",
    "\n",
    "\n",
    "# Initial guess\n",
    "x0 = [1, 2]\n",
    "\n",
    "print(\"===== Algoritmo =====\")\n",
    "res, iter = newton_raphson(lambda x: np.array([f1(x), f2(x)]).flatten(), x0, jacobian, 0.01, 100)\n",
    "\n",
    "display(f\"x1:{res[0]}, x2:{res[1]}, em {iter} iterações\")\n"
   ]
  }
 ],
 "metadata": {
  "kernelspec": {
   "display_name": ".venv",
   "language": "python",
   "name": "python3"
  },
  "language_info": {
   "codemirror_mode": {
    "name": "ipython",
    "version": 3
   },
   "file_extension": ".py",
   "mimetype": "text/x-python",
   "name": "python",
   "nbconvert_exporter": "python",
   "pygments_lexer": "ipython3",
   "version": "3.11.5"
  },
  "orig_nbformat": 4
 },
 "nbformat": 4,
 "nbformat_minor": 2
}
