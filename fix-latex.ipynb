{
 "cells": [
  {
   "cell_type": "code",
   "execution_count": 14,
   "metadata": {},
   "outputs": [
    {
     "name": "stderr",
     "output_type": "stream",
     "text": [
      "[NbConvertApp] Converting notebook aula-3.ipynb to latex\n",
      "[NbConvertApp] Support files will be in aula-3_files/\n",
      "[NbConvertApp] Writing 45583 bytes to latex_alejo/aula-3.tex\n"
     ]
    },
    {
     "name": "stdout",
     "output_type": "stream",
     "text": [
      "Fixing aula-3.tex\n",
      "note: Running TeX ...\n"
     ]
    },
    {
     "name": "stderr",
     "output_type": "stream",
     "text": [
      "warning: Alejo-Perdomo-Milar-e-João-Mário-C.-I.-Lago-Trabalho-2:-Busca-por-raizes.tex:616: Underfull \\hbox (badness 10000) in paragraph at lines 615--616\n"
     ]
    },
    {
     "name": "stdout",
     "output_type": "stream",
     "text": [
      "note: Rerunning TeX because \"Alejo-Perdomo-Milar-e-João-Mário-C.-I.-Lago-Trabalho-2:-Busca-por-raizes.aux\" changed ...\n"
     ]
    },
    {
     "name": "stderr",
     "output_type": "stream",
     "text": [
      "warning: Alejo-Perdomo-Milar-e-João-Mário-C.-I.-Lago-Trabalho-2:-Busca-por-raizes.tex:616: Underfull \\hbox (badness 10000) in paragraph at lines 615--616\n",
      "warning: warnings were issued by the TeX engine; use --print and/or --keep-logs for details.\n"
     ]
    },
    {
     "name": "stdout",
     "output_type": "stream",
     "text": [
      "note: Running xdvipdfmx ...\n"
     ]
    },
    {
     "name": "stderr",
     "output_type": "stream",
     "text": [
      "warning: Object @page.1 already defined.\n"
     ]
    },
    {
     "name": "stdout",
     "output_type": "stream",
     "text": [
      "note: Writing `pdf_alejo/Alejo-Perdomo-Milar-e-João-Mário-C.-I.-Lago-Trabalho-2:-Busca-por-raizes.pdf` (215.60 KiB)\n",
      "note: Skipped writing 2 intermediate files (use --keep-intermediates to keep them)\n"
     ]
    }
   ],
   "source": [
    "import os\n",
    "from datetime import date\n",
    "\n",
    "\n",
    "def maketitle(title, author, subject):\n",
    "\treturn '''\n",
    "\\\\begin{titlepage}\n",
    "    \\\\begin{center}\n",
    "        \\\\vspace*{1cm}\n",
    "\n",
    "\n",
    "\n",
    "        \\\\vspace{0.5cm}\n",
    "        \\\\Large{Instituto Federal de Santa Catarina\\\\\\\\\n",
    "        ''' +subject + '''}\n",
    "\n",
    "        \\\\vspace{5.5cm}\n",
    "\n",
    "        \\\\textbf{''' + title + '''}\\\\\\\\\n",
    "        \\\\textbf{''' + author + '''}\n",
    "\n",
    "        \\\\vfill\n",
    "\n",
    "        Florianópolis\\\\\\\\\n",
    "        ''' + str(date.today()) + '''\n",
    "\n",
    "    \\end{center}\n",
    "\\end{titlepage}\n",
    "'''\n",
    "\n",
    "def create_directory(directory):\n",
    "\tif not os.path.exists(directory):\n",
    "\t\tos.makedirs(directory)\n",
    "\n",
    "def get_notebook_files():\n",
    "\tfiles = [f for f in os.listdir('.') if os.path.isfile(f) and f.endswith('.ipynb') and f != 'fix-latex.ipynb']\n",
    "\treturn files\n",
    "\n",
    "def select_files_to_convert(files):\n",
    "\tfiles_str = 'Files to convert to latex:'\n",
    "\tfor i, f in enumerate(files):\n",
    "\t\tfiles_str += '\\n' + str(f'{i+1}. {f}')\n",
    "\tfiles_to_convert = input(f\"Enter the numbers of the files to convert separated by a space: \\n {files_str}\").split(' ')\n",
    "\treturn [files[int(i)-1] for i in files_to_convert]\n",
    "\n",
    "def convert_to_latex(files, latex_dir):\n",
    "\tfor f in files:\n",
    "\t\tif os.path.exists(f'{latex_dir}/{f[:-6]}.tex'):\n",
    "\t\t\toverwrite = input(f'File {f[:-6]}.tex already exists, do you want to overwrite it? (y/n): ')\n",
    "\t\t\tif overwrite == 'y':\n",
    "\t\t\t\tos.system(f'jupyter nbconvert --to latex {f} --output-dir {latex_dir}')\n",
    "\t\telse:\n",
    "\t\t\tos.system(f'jupyter nbconvert --to latex {f} --output-dir {latex_dir}')\n",
    "\n",
    "def fix_latex_files(files, latex_dir, fixed_files_dir, author, maketitle):\n",
    "\tfor f in files:\n",
    "\t\tf = f[:-6] + '.tex'\n",
    "\t\tprint(f'Fixing {f}')\n",
    "\t\twith open(f'{latex_dir}/{f}', 'r') as file:\n",
    "\t\t\tcreate_directory(fixed_files_dir)\n",
    "\t\t\t\n",
    "\t\t\t# Copy the files dir of the latex file\n",
    "\t\t\tos.system(f'cp -r {latex_dir}/{f[:-4] + \"_files\"} {fixed_files_dir}/')\n",
    "\t\t\t# Copy the assets folder\n",
    "\t\t\tos.system(f'cp -r assets {fixed_files_dir}/')\n",
    "\n",
    "\t\t\ttitle = input(f'Enter the title of the document {f[:-4]}: ')\n",
    "\t\t\tfixed_file_name = f'{author.replace(\" \", \"-\")}-{title.replace(\" \", \"-\")}.tex'\n",
    "\t\t\tif os.path.exists(f'{fixed_files_dir}/{fixed_file_name}'):\n",
    "\t\t\t\tos.remove(f'{fixed_files_dir}/{fixed_file_name}')\n",
    "\t\t\twith open(f'{fixed_files_dir}/{fixed_file_name}', 'w') as fixed_file:\n",
    "\t\t\t\tlines = file.readlines()\n",
    "\t\t\t\tlines[0] = lines[0].replace('[11pt]', '')\n",
    "\t\t\t\tfor i, line in enumerate(lines):\n",
    "\t\t\t\t\tif '\\\\title' in line:\n",
    "\t\t\t\t\t\tline = '\\\\title{' + title + '}\\n'\n",
    "\t\t\t\t\telif '\\\\maketitle' in line:\n",
    "\t\t\t\t\t\tline = maketitle(title, author, subject)\n",
    "\t\t\t\t\tfixed_file.write(line)\n",
    "\n",
    "def convert_to_pdf(input_dir, output_dir):\n",
    "\tfiles = [filename for filename in os.listdir(input_dir) if filename.endswith('.tex')]\n",
    "\tfor f in files:\n",
    "\t\tcreate_directory(output_dir)\n",
    "\t\tconvert = input(f'Convert {f[:-4]} to pdf? (y/n): ')\n",
    "\t\tif convert == 'n':\n",
    "\t\t\tcontinue\n",
    "\t\tif os.path.exists(f'{pdf_dir}/{f[:-4]}.pdf'):\n",
    "\t\t\toverwrite = input(f'File {f[:-4]}.pdf already exists, do you want to overwrite it? (y/n): ')\n",
    "\t\t\tif overwrite == 'n':\n",
    "\t\t\t\tcontinue\n",
    "\t\tos.system(f'tectonic -o {output_dir} {input_dir}/{f}')\n",
    "\n",
    "if __name__ == \"__main__\":\n",
    "\tlatex_dir = 'latex_alejo'\n",
    "\tfixed_files_dir = latex_dir + '/fixed-files'\n",
    "\tpdf_dir = 'pdf_alejo'\n",
    "\tauthor = 'Alejo Perdomo Milar e João Mário C. I. Lago'\n",
    "\tsubject = 'Calculo Numerico'\n",
    "\n",
    "\tcreate_directory(latex_dir)\n",
    "\tfiles = get_notebook_files()\n",
    "\tfiles_to_convert = select_files_to_convert(files)\n",
    "\tconvert_to_latex(files_to_convert, latex_dir)\n",
    "\tfix_latex_files(files_to_convert, latex_dir, fixed_files_dir, author, maketitle)\n",
    "\tconvert_to_pdf(fixed_files_dir, pdf_dir)\n"
   ]
  }
 ],
 "metadata": {
  "kernelspec": {
   "display_name": ".venv",
   "language": "python",
   "name": "python3"
  },
  "language_info": {
   "codemirror_mode": {
    "name": "ipython",
    "version": 3
   },
   "file_extension": ".py",
   "mimetype": "text/x-python",
   "name": "python",
   "nbconvert_exporter": "python",
   "pygments_lexer": "ipython3",
   "version": "3.11.3"
  },
  "orig_nbformat": 4
 },
 "nbformat": 4,
 "nbformat_minor": 2
}
